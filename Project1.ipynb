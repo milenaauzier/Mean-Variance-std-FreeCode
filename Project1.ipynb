{
 "cells": [
  {
   "cell_type": "markdown",
   "id": "75b872b8-e9fd-4d78-809d-10541024d5ce",
   "metadata": {},
   "source": [
    "# Mean-Variance-Standard Deviation Calculator"
   ]
  },
  {
   "cell_type": "markdown",
   "id": "4bbe64db-fe5b-4ffd-9a45-a39937273e77",
   "metadata": {},
   "source": [
    "Create a function named calculate() in mean_var_std.py that uses Numpy to output the mean, variance, standard deviation, max, min, and sum of the rows, columns, and elements in a 3 x 3 matrix.\n",
    "\n",
    "The input of the function should be a list containing 9 digits. The function should convert the list into a 3 x 3 Numpy array, and then return a dictionary containing the mean, variance, standard deviation, max, min, and sum along both axes and for the flattened matrix.\n",
    "\n",
    "The returned dictionary should follow this format:"
   ]
  },
  {
   "cell_type": "code",
   "execution_count": 48,
   "id": "54c4159a-e9ea-4c89-946d-32dd4aba3afc",
   "metadata": {},
   "outputs": [],
   "source": [
    "import numpy as np "
   ]
  },
  {
   "cell_type": "code",
   "execution_count": 79,
   "id": "cd55a9fe-4872-4815-bdea-84f9c46107f4",
   "metadata": {},
   "outputs": [],
   "source": [
    "def calculate(list):\n",
    "    if len(list) != 9: \n",
    "        raise ValueError('List must contain nine numbers')\n",
    "        num = np.array(list)\n",
    "        matrix = np.reshape(array, (3,3))\n",
    "       \n",
    "         \n",
    "        # mean\n",
    "        \n",
    "        mean_z0 = matrix.mean(axis = 0)\n",
    "        mean_z1 = matrix.mean(axis = 1)\n",
    "        mean = matrix.mean()\n",
    "        \n",
    "        # var \n",
    "        var_z0 = matrix.var(axis = 0)\n",
    "        var_z1 = matrix.var(axis = 1)\n",
    "        var = matrix.var()\n",
    "        \n",
    "        # std\n",
    "        \n",
    "        std_z0 = matrix.std(axis=0)\n",
    "        std_z1 = matrix.std(axis=1)\n",
    "        std = matrix.std()\n",
    "        \n",
    "        # max \n",
    "        \n",
    "        max_z0 = matrix.max(axis = 0)\n",
    "        max_z1 = matrix.max(axis = 1)\n",
    "        maxx= matrix.max()\n",
    "        \n",
    "        # min \n",
    "        \n",
    "        min_z0 = matrix.min(axis = 0)\n",
    "        min_z1 = matrix.min(axis = 1)\n",
    "        minn = matrix.min()\n",
    "        \n",
    "        # sum \n",
    "        \n",
    "        sum_z0 = matrix.sum(axis = 0)\n",
    "        sum_z1 = matrix.sum(axis = 1)\n",
    "        summ = matrix.sum()\n",
    "        \n",
    "        \n",
    "        calculations = {\"mean\":[[i for i in(mean_z0)], [i for i in (mean_z1)], mean], \n",
    "                        \"variance\": [[i for i in(var_z0)], [i for i in (var_z1)], var],\n",
    "                        \"standard deviation\": [[i for i in(std_z0)], [i for i in(std_z1)], std],\n",
    "                        \"max\":[[i for i in(max_z0)], [i for i in(max_z1)], maxx],\n",
    "                        \"min\":[[i for i in(min_z0)], [i for i in(min_z1)], minn],\n",
    "                        \"sum\":[[i for i in(sum_z0)], [i for i in(sum_z1)], summ]}\n",
    "         \n",
    "                           \n",
    "        return calculations                                               \n",
    "    "
   ]
  },
  {
   "cell_type": "code",
   "execution_count": 82,
   "id": "d6574ef5-7eb9-47cb-819f-fcac8cac50dd",
   "metadata": {},
   "outputs": [
    {
     "ename": "NameError",
     "evalue": "name 'calculations' is not defined",
     "output_type": "error",
     "traceback": [
      "\u001b[1;31m---------------------------------------------------------------------------\u001b[0m",
      "\u001b[1;31mNameError\u001b[0m                                 Traceback (most recent call last)",
      "\u001b[1;32m<ipython-input-82-205e06e1c1f2>\u001b[0m in \u001b[0;36m<module>\u001b[1;34m\u001b[0m\n\u001b[1;32m----> 1\u001b[1;33m \u001b[0mcalculations\u001b[0m\u001b[1;33m.\u001b[0m\u001b[0mpy\u001b[0m\u001b[1;33m\u001b[0m\u001b[1;33m\u001b[0m\u001b[0m\n\u001b[0m",
      "\u001b[1;31mNameError\u001b[0m: name 'calculations' is not defined"
     ]
    }
   ],
   "source": []
  }
 ],
 "metadata": {
  "kernelspec": {
   "display_name": "Python 3",
   "language": "python",
   "name": "python3"
  },
  "language_info": {
   "codemirror_mode": {
    "name": "ipython",
    "version": 3
   },
   "file_extension": ".py",
   "mimetype": "text/x-python",
   "name": "python",
   "nbconvert_exporter": "python",
   "pygments_lexer": "ipython3",
   "version": "3.8.8"
  }
 },
 "nbformat": 4,
 "nbformat_minor": 5
}
